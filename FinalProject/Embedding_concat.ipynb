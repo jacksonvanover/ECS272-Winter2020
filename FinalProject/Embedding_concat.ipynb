{
 "cells": [
  {
   "cell_type": "code",
   "execution_count": 19,
   "metadata": {},
   "outputs": [],
   "source": [
    "import pandas as pd\n",
    "import numpy as np"
   ]
  },
  {
   "cell_type": "code",
   "execution_count": 20,
   "metadata": {},
   "outputs": [],
   "source": [
    "def concat_embeddings(input_df, embedding1_wt, embedding2_wt, embedding3_wt ):\n",
    "    weighted1 = []\n",
    "    weighted2 = []\n",
    "    weighted3 = []\n",
    "    \n",
    "    for item in input_df.embedding1.tolist():\n",
    "        weighted1.append(list(map(lambda x: x*embedding1_wt, item)))\n",
    "    #print(input_df.embedding1.tolist())\n",
    "    #print(weighted1)\n",
    "    for item in input_df.embedding2.tolist():\n",
    "        weighted2.append(list(map(lambda x: x*embedding2_wt, item)))\n",
    "    #print(input_df.embedding2.tolist())\n",
    "    #print(weighted2)\n",
    "    for item in input_df.embedding3.tolist():\n",
    "        weighted3.append(list(map(lambda x: x*embedding3_wt, item)))\n",
    "    \n",
    "    for i in range(len(weighted1)):\n",
    "        weighted1[i] += weighted2[i] + weighted3[i]         \n",
    "    \n",
    "    #print(weighted1)\n",
    "    \n",
    "    input_df['concat_embedding'] = weighted1"
   ]
  },
  {
   "cell_type": "markdown",
   "metadata": {},
   "source": [
    "# Rough Callback"
   ]
  },
  {
   "cell_type": "code",
   "execution_count": null,
   "metadata": {},
   "outputs": [],
   "source": [
    "@app.callback(\n",
    "        [Output('chart', 'figure')],\n",
    "        [Input('wt1_slider', 'value'),\n",
    "        Input('wt2_slider', 'value'),\n",
    "        Input('wt3_slider', 'value')]\n",
    "    )\n",
    "    def update_radar_chart(wt1, wt2, wt3):\n",
    "        concat_embeddings(df, wt1, wt2, wt3)\n",
    "        # update figure for chart with data from df"
   ]
  },
  {
   "cell_type": "markdown",
   "metadata": {},
   "source": [
    "# Test"
   ]
  },
  {
   "cell_type": "code",
   "execution_count": 21,
   "metadata": {},
   "outputs": [
    {
     "data": {
      "text/html": [
       "<div>\n",
       "<style scoped>\n",
       "    .dataframe tbody tr th:only-of-type {\n",
       "        vertical-align: middle;\n",
       "    }\n",
       "\n",
       "    .dataframe tbody tr th {\n",
       "        vertical-align: top;\n",
       "    }\n",
       "\n",
       "    .dataframe thead th {\n",
       "        text-align: right;\n",
       "    }\n",
       "</style>\n",
       "<table border=\"1\" class=\"dataframe\">\n",
       "  <thead>\n",
       "    <tr style=\"text-align: right;\">\n",
       "      <th></th>\n",
       "      <th>embedding1</th>\n",
       "      <th>embedding2</th>\n",
       "      <th>embedding3</th>\n",
       "      <th>concat_embedding</th>\n",
       "    </tr>\n",
       "  </thead>\n",
       "  <tbody>\n",
       "    <tr>\n",
       "      <th>0</th>\n",
       "      <td>[0, 2, 3, 5, 7]</td>\n",
       "      <td>[0, 2, 3, 5, 7]</td>\n",
       "      <td>[0, 2, 3, 5, 7]</td>\n",
       "      <td>[0, 4, 6, 10, 14, 0, 6, 9, 15, 21, 0, 2, 3, 5, 7]</td>\n",
       "    </tr>\n",
       "    <tr>\n",
       "      <th>1</th>\n",
       "      <td>[0, 1, 2, 3, 4]</td>\n",
       "      <td>[0, 2, 3, 5, 7]</td>\n",
       "      <td>[0, 2, 3, 5, 7]</td>\n",
       "      <td>[0, 2, 4, 6, 8, 0, 6, 9, 15, 21, 0, 2, 3, 5, 7]</td>\n",
       "    </tr>\n",
       "  </tbody>\n",
       "</table>\n",
       "</div>"
      ],
      "text/plain": [
       "        embedding1       embedding2       embedding3  \\\n",
       "0  [0, 2, 3, 5, 7]  [0, 2, 3, 5, 7]  [0, 2, 3, 5, 7]   \n",
       "1  [0, 1, 2, 3, 4]  [0, 2, 3, 5, 7]  [0, 2, 3, 5, 7]   \n",
       "\n",
       "                                    concat_embedding  \n",
       "0  [0, 4, 6, 10, 14, 0, 6, 9, 15, 21, 0, 2, 3, 5, 7]  \n",
       "1    [0, 2, 4, 6, 8, 0, 6, 9, 15, 21, 0, 2, 3, 5, 7]  "
      ]
     },
     "execution_count": 21,
     "metadata": {},
     "output_type": "execute_result"
    }
   ],
   "source": [
    "rows2 = []\n",
    "dict93 = {\n",
    "    \"embedding1\" : [0,2,3,5,7],\n",
    "    \"embedding2\" : [0,2,3,5,7],\n",
    "    \"embedding3\" : [0,2,3,5,7]\n",
    "    \n",
    "}\n",
    "rows2.append(dict93)\n",
    "dict94 = {\n",
    "    \"embedding1\" : [0,1,2,3,4],\n",
    "    \"embedding2\" : [0,2,3,5,7],\n",
    "    \"embedding3\" : [0,2,3,5,7]\n",
    "}\n",
    "rows2.append(dict94)\n",
    "test_df = pd.DataFrame(rows2)\n",
    "\n",
    "concat_embeddings(test_df, 2, 3, 1)\n",
    "test_df"
   ]
  }
 ],
 "metadata": {
  "kernelspec": {
   "display_name": "Python 3",
   "language": "python",
   "name": "python3"
  },
  "language_info": {
   "codemirror_mode": {
    "name": "ipython",
    "version": 3
   },
   "file_extension": ".py",
   "mimetype": "text/x-python",
   "name": "python",
   "nbconvert_exporter": "python",
   "pygments_lexer": "ipython3",
   "version": "3.7.3"
  }
 },
 "nbformat": 4,
 "nbformat_minor": 2
}
