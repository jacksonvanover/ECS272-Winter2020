{
 "cells": [
  {
   "cell_type": "code",
   "execution_count": 74,
   "metadata": {},
   "outputs": [
    {
     "name": "stdout",
     "output_type": "stream",
     "text": [
      "<class 'pandas.core.frame.DataFrame'>\n",
      "RangeIndex: 1010 entries, 0 to 1009\n",
      "Columns: 150 entries, Music to House - block of flats\n",
      "dtypes: float64(134), int64(5), object(11)\n",
      "memory usage: 1.2+ MB\n"
     ]
    }
   ],
   "source": [
    "import pandas as pd\n",
    "from sklearn.cluster import KMeans\n",
    "from sklearn import preprocessing\n",
    "from sklearn.manifold import TSNE \n",
    "import dash\n",
    "import dash_core_components as dcc\n",
    "import dash_html_components as html\n",
    "from dash.dependencies import Input, Output\n",
    "\n",
    "# load responses as a DataFrame\n",
    "with open(\"responses.csv\") as f:\n",
    "    df = pd.read_csv(f)\n",
    "\n",
    "# load a dict to translate short column headers to full survey questions    \n",
    "with open(\"columns.csv\") as f:\n",
    "    x = pd.read_csv(f)\n",
    "    headerDict = pd.Series(x.original.values, index=x.short).to_dict()\n",
    "    \n",
    "df.info()"
   ]
  },
  {
   "cell_type": "code",
   "execution_count": 44,
   "metadata": {},
   "outputs": [
    {
     "data": {
      "text/html": [
       "<div>\n",
       "<style scoped>\n",
       "    .dataframe tbody tr th:only-of-type {\n",
       "        vertical-align: middle;\n",
       "    }\n",
       "\n",
       "    .dataframe tbody tr th {\n",
       "        vertical-align: top;\n",
       "    }\n",
       "\n",
       "    .dataframe thead th {\n",
       "        text-align: right;\n",
       "    }\n",
       "</style>\n",
       "<table border=\"1\" class=\"dataframe\">\n",
       "  <thead>\n",
       "    <tr style=\"text-align: right;\">\n",
       "      <th></th>\n",
       "      <th>Smoking</th>\n",
       "      <th>Alcohol</th>\n",
       "      <th>Punctuality</th>\n",
       "      <th>Lying</th>\n",
       "      <th>Internet usage</th>\n",
       "      <th>Gender</th>\n",
       "      <th>Left - right handed</th>\n",
       "      <th>Education</th>\n",
       "      <th>Only child</th>\n",
       "      <th>Village - town</th>\n",
       "      <th>House - block of flats</th>\n",
       "    </tr>\n",
       "  </thead>\n",
       "  <tbody>\n",
       "    <tr>\n",
       "      <th>count</th>\n",
       "      <td>1002</td>\n",
       "      <td>1005</td>\n",
       "      <td>1008</td>\n",
       "      <td>1008</td>\n",
       "      <td>1010</td>\n",
       "      <td>1004</td>\n",
       "      <td>1007</td>\n",
       "      <td>1009</td>\n",
       "      <td>1008</td>\n",
       "      <td>1006</td>\n",
       "      <td>1006</td>\n",
       "    </tr>\n",
       "    <tr>\n",
       "      <th>unique</th>\n",
       "      <td>4</td>\n",
       "      <td>3</td>\n",
       "      <td>3</td>\n",
       "      <td>4</td>\n",
       "      <td>4</td>\n",
       "      <td>2</td>\n",
       "      <td>2</td>\n",
       "      <td>6</td>\n",
       "      <td>2</td>\n",
       "      <td>2</td>\n",
       "      <td>2</td>\n",
       "    </tr>\n",
       "    <tr>\n",
       "      <th>top</th>\n",
       "      <td>tried smoking</td>\n",
       "      <td>social drinker</td>\n",
       "      <td>i am always on time</td>\n",
       "      <td>sometimes</td>\n",
       "      <td>few hours a day</td>\n",
       "      <td>female</td>\n",
       "      <td>right handed</td>\n",
       "      <td>secondary school</td>\n",
       "      <td>no</td>\n",
       "      <td>city</td>\n",
       "      <td>block of flats</td>\n",
       "    </tr>\n",
       "    <tr>\n",
       "      <th>freq</th>\n",
       "      <td>430</td>\n",
       "      <td>659</td>\n",
       "      <td>399</td>\n",
       "      <td>549</td>\n",
       "      <td>744</td>\n",
       "      <td>593</td>\n",
       "      <td>906</td>\n",
       "      <td>621</td>\n",
       "      <td>754</td>\n",
       "      <td>707</td>\n",
       "      <td>595</td>\n",
       "    </tr>\n",
       "  </tbody>\n",
       "</table>\n",
       "</div>"
      ],
      "text/plain": [
       "              Smoking         Alcohol          Punctuality      Lying  \\\n",
       "count            1002            1005                 1008       1008   \n",
       "unique              4               3                    3          4   \n",
       "top     tried smoking  social drinker  i am always on time  sometimes   \n",
       "freq              430             659                  399        549   \n",
       "\n",
       "         Internet usage  Gender Left - right handed         Education  \\\n",
       "count              1010    1004                1007              1009   \n",
       "unique                4       2                   2                 6   \n",
       "top     few hours a day  female        right handed  secondary school   \n",
       "freq                744     593                 906               621   \n",
       "\n",
       "       Only child Village - town House - block of flats  \n",
       "count        1008           1006                   1006  \n",
       "unique          2              2                      2  \n",
       "top            no           city         block of flats  \n",
       "freq          754            707                    595  "
      ]
     },
     "execution_count": 44,
     "metadata": {},
     "output_type": "execute_result"
    }
   ],
   "source": [
    "# create a dataFrame of the non-numerical columns from the data to see what the clustering can't handle\n",
    "df_other = df.select_dtypes(['object'])\n",
    "df_other.describe()\n",
    "\n",
    "# QUESTION: Does it make sense to take these columns of categorical data and translate them to numerical data so we don't lose the info for the clustering? There is a sufficiently small number of unique values..."
   ]
  },
  {
   "cell_type": "code",
   "execution_count": 61,
   "metadata": {},
   "outputs": [
    {
     "name": "stdout",
     "output_type": "stream",
     "text": [
      "<class 'pandas.core.frame.DataFrame'>\n",
      "RangeIndex: 686 entries, 0 to 685\n",
      "Columns: 139 entries, Music to Number of siblings\n",
      "dtypes: float64(134), int64(5)\n",
      "memory usage: 745.1 KB\n"
     ]
    }
   ],
   "source": [
    "# create a dataFrame of the numerical columns from the data; drop all the NaN values for now\n",
    "df_num = df.select_dtypes(['number']).dropna().reset_index(drop=True)\n",
    "df_num.info()\n",
    "\n",
    "# QUESTION: We probably don't want to lose more than 300 rows when dropping the NaN values; should we replace them with the average for the column? With the middle value of the possible range of values?"
   ]
  },
  {
   "cell_type": "code",
   "execution_count": 68,
   "metadata": {},
   "outputs": [],
   "source": [
    "# QUESTION: since we have a high-dimensionality data set, should we normalize the data set? \n",
    "def dummy_cluster_norm(data, numCluster):\n",
    "    \n",
    "    # instantiate kmeans object and perform clustering\n",
    "    kmeans = KMeans(n_clusters = numCluster)\n",
    "    kmeans.fit(preprocessing.normalize(data))\n",
    "    \n",
    "    # dimensionality reduction via TSNE\n",
    "    tsne_3d_df = pd.DataFrame(TSNE(n_components=3).fit_transform(data))\n",
    "    \n",
    "    # append data with column of cluster labels and 3d coordinates\n",
    "    data['clusterNo'] = kmeans.labels_\n",
    "    data['xcoord'] = tsne_3d_df[0]\n",
    "    data['ycoord'] = tsne_3d_df[1]\n",
    "    data['zcoord'] = tsne_3d_df[2]\n",
    "    \n",
    "    return data"
   ]
  },
  {
   "cell_type": "code",
   "execution_count": 69,
   "metadata": {},
   "outputs": [],
   "source": [
    "df_num_clusters = dummy_cluster_norm(df_num, 3)"
   ]
  },
  {
   "cell_type": "code",
   "execution_count": 71,
   "metadata": {},
   "outputs": [],
   "source": [
    "import plotly.express as px\n",
    "\n",
    "fig = px.scatter_3d(df_num_clusters, x='xcoord', y='ycoord', z='zcoord', color='clusterNo')\n",
    "\n",
    "fig.show()"
   ]
  },
  {
   "cell_type": "code",
   "execution_count": null,
   "metadata": {},
   "outputs": [],
   "source": []
  }
 ],
 "metadata": {
  "kernelspec": {
   "display_name": "Python 3",
   "language": "python",
   "name": "python3"
  },
  "language_info": {
   "codemirror_mode": {
    "name": "ipython",
    "version": 3
   },
   "file_extension": ".py",
   "mimetype": "text/x-python",
   "name": "python",
   "nbconvert_exporter": "python",
   "pygments_lexer": "ipython3",
   "version": "3.6.9"
  }
 },
 "nbformat": 4,
 "nbformat_minor": 4
}
